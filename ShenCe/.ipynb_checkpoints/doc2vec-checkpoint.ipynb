{
 "cells": [
  {
   "cell_type": "code",
   "execution_count": 1,
   "metadata": {},
   "outputs": [
    {
     "name": "stderr",
     "output_type": "stream",
     "text": [
      "C:\\ProgramData\\Anaconda3\\lib\\site-packages\\gensim\\utils.py:1212: UserWarning: detected Windows; aliasing chunkize to chunkize_serial\n",
      "  warnings.warn(\"detected Windows; aliasing chunkize to chunkize_serial\")\n"
     ]
    }
   ],
   "source": [
    "import gensim\n",
    "from gensim.models.doc2vec import Doc2Vec, LabeledSentence\n",
    " \n",
    "TaggededDocument = gensim.models.doc2vec.TaggedDocument\n"
   ]
  },
  {
   "cell_type": "code",
   "execution_count": 2,
   "metadata": {},
   "outputs": [],
   "source": [
    "with open(\"data/fenci_doc.txt\", 'r',encoding='utf-8') as cf:\n",
    "    docs = cf.readlines()\n",
    "x_train = []    \n",
    "for i, text in enumerate(docs):  \n",
    "    text=text.strip('\\n')\n",
    "    word_list = text.split(',')        \n",
    "    document = TaggededDocument(word_list, tags=[i])       \n",
    "    x_train.append(document)"
   ]
  },
  {
   "cell_type": "code",
   "execution_count": 4,
   "metadata": {},
   "outputs": [
    {
     "name": "stderr",
     "output_type": "stream",
     "text": [
      "C:\\ProgramData\\Anaconda3\\lib\\site-packages\\gensim\\models\\doc2vec.py:572: UserWarning: The parameter `size` is deprecated, will be removed in 4.0.0, use `vector_size` instead.\n",
      "  warnings.warn(\"The parameter `size` is deprecated, will be removed in 4.0.0, use `vector_size` instead.\")\n"
     ]
    }
   ],
   "source": [
    "model_dm = Doc2Vec(x_train,min_count=1, window = 5, size = 200, sample=1e-3, negative=5, workers=4)   \n",
    "#model_dm.train(x_train, total_examples=model_dm.corpus_count, epochs=1)    \n",
    "#model_dm.save('data/model_dm_terry') "
   ]
  },
  {
   "cell_type": "code",
   "execution_count": 5,
   "metadata": {},
   "outputs": [
    {
     "name": "stderr",
     "output_type": "stream",
     "text": [
      "WARNING:gensim.models.base_any2vec:Effective 'alpha' higher than previous training cycles\n"
     ]
    }
   ],
   "source": [
    "model_dm.train(x_train, total_examples=model_dm.corpus_count, epochs=20) \n",
    "model_dm.save(\"data/model_dm_60\")"
   ]
  },
  {
   "cell_type": "code",
   "execution_count": 4,
   "metadata": {},
   "outputs": [],
   "source": [
    "model_dm = Doc2Vec.load(\"data/model_dm_60\")"
   ]
  },
  {
   "cell_type": "code",
   "execution_count": 6,
   "metadata": {},
   "outputs": [],
   "source": [
    "words_list0=['林志颖','老婆','深夜','敷','面膜','睫毛','太长','好','吓人','早年','林志颖','带','kimi','上','的','时候','当时','遮遮掩掩','的','林志颖','老婆','低调','探班','总','让','人','觉得','格外','神秘','大概','是','特别','不','喜欢','在','公众','面前','曝光','自己','日常','的','那种','人','可能','这么些','年','过去','心态','不断','调整','过','了','至少','在','微博上','陈若仪','越来越','放得','开晒','自己','带娃','照顾','双子星','的','点滴','也','晒','日常','自己','的','护肤','心得','时不时','安利','一些','小东西','都','快','晚上','十点','半睡','美容','觉','的','最佳','时候','结果','才','带','完','一天','娃','的','陈若仪','还是','不忘先','保养','自己','敷起','了','面膜','泡','完澡','这次','用','的','是','一个','稍微','平价','的','面膜','脸上','','甚至','仔细','到','脖子','上','都','抹','上','了','陈若仪','也','是','多此一举','特别','说','自己','不是','裸体','是','裹','着','浴巾','的','谁','在意','这个','呀','目光','完全','被','你','那','又','长','又','扑闪','的','睫毛','给','吸引住','了','这','也','太','吓人','吧','怎么','能够','长','那么','长','那么','密','那么','翘','嫉妒','地说','一句','真的','很像种','的','假睫毛','呐','陈若仪','的','睫毛','应该','是','天生','的','基础','好','吧','要不然','也','不会','遗传','给','小孩','一家子','都','是','睫毛','精','几个','儿子','现在','这么','小','都','是','长','睫毛','只是','陈若仪','现在','这个','完美','状态','一定','是','后天','再','经过','悉心','的','呵护','培养','网友','已经','迫不及待','让','她','教教','怎么弄','睫毛','了','陈若仪','也','是','答应','地','好好','的','各种','私人物品','主动','揭秘','安利','一些','品牌','给','大家','虽然','一再强调','是','自己','的','日常','小物','还是','很','让','人','怀疑','陈若仪','是不是','在','做','微商当','网红呐','网友','建议','她','开个','店','看','这','回复','也','是','很','有','意愿','了','她','应该','不缺','这个','钱','才','对','隔三差五','介绍','下','自己','用','的','小','刷子','之类','陈若仪','乐于','向','大家','传授','自己','的','保养','呵护','之道','她','是','很','容易','就','被','晒','出斑','的','肤质','去','海岛','参加','婚礼','都','要','必备','这','几款','超爱用','的','防晒','隔离','日常','用','的','','太阳','大','时候','用','的','好几个','种类','活','得','相当','精致','你们','按照','自己','的','需要','了解','一下','画','眉毛','最爱用','的','是','intergrate','的','眉笔','也','是','个','念旧','的','人','除了','Dior','陈若仪','的','另','一个','眉粉','其中','一个','是','她','高中','就','开始','用','的','Kate','一般','都','是','大学','才','开始','化妆','修饰','自己','感受','得到','陈若仪','从小','就','很','爱美','各种','小零小碎','的','化妆品','已经','买过','七八次','的','粉红','胡椒','抛光','美体','油','每天','洗完','澡','陈若仪','都','会','喷','在','肚子','','大腿','','屁股','和','膝盖','手肘','说','是','能','保持','肌肤','的','平滑','紧致','程度','每','安利','一样','东西','总有','网友','要','在','下面','问','其他','问题','咋个','办','真是','相当','信任','陈若仪','了','每次','她','也','很','耐心','的','解答','','去','黑头','我用','的','是','SUQQU','洁面','去角质','按摩','膏','磨砂','洁面','洗面奶','','一定','要','先','按摩','再用','她','自己','已经','回购','过好','几次','意思','是','你们','再','了解','一下','了解','归','了解','买','不','买','随意','毕竟','像','她','另','一个','爱用','的','达尔','肤','面膜','效果','好','是','好','价格','据说','比','sk','都','还要','贵','不是','大多数','人','日常','能够','消费','得','起','的','大家','就','看个','热闹','就','好','了','还是','多买','多试','多用','才能','找到','最','适合','自己','的','护肤','方法']\n",
    "words_list1=['林志颖']\n",
    "words_list2=['太长']\n",
    "words_list3=['面膜']\n",
    "words_list4=['睫毛']"
   ]
  },
  {
   "cell_type": "code",
   "execution_count": 7,
   "metadata": {},
   "outputs": [],
   "source": [
    "words_vector0=model_dm.infer_vector(words_list0)\n",
    "words_vector1=model_dm.infer_vector(words_list1)\n",
    "words_vector2=model_dm.infer_vector(words_list2)\n",
    "words_vector3=model_dm.infer_vector(words_list3)\n",
    "words_vector4=model_dm.infer_vector(words_list4)"
   ]
  },
  {
   "cell_type": "code",
   "execution_count": 8,
   "metadata": {},
   "outputs": [],
   "source": [
    "def cal_dis(vec1,vec2):\n",
    "    dist = numpy.sqrt(numpy.sum(numpy.square(vec1 - vec2)))\n",
    "    return dist/numpy.sqrt(200)"
   ]
  },
  {
   "cell_type": "code",
   "execution_count": 9,
   "metadata": {},
   "outputs": [
    {
     "name": "stdout",
     "output_type": "stream",
     "text": [
      "1.6520687961821434\n",
      "1.6603960693584894\n",
      "1.645586408576295\n",
      "1.6537874435119813\n"
     ]
    }
   ],
   "source": [
    "import numpy\n",
    "\n",
    "print(cal_dis(words_vector0,words_vector1))\n",
    "print(cal_dis(words_vector0,words_vector2))\n",
    "print(cal_dis(words_vector0,words_vector3))\n",
    "print(cal_dis(words_vector0,words_vector4))"
   ]
  },
  {
   "cell_type": "code",
   "execution_count": null,
   "metadata": {},
   "outputs": [],
   "source": []
  }
 ],
 "metadata": {
  "kernelspec": {
   "display_name": "Python 3",
   "language": "python",
   "name": "python3"
  },
  "language_info": {
   "codemirror_mode": {
    "name": "ipython",
    "version": 3
   },
   "file_extension": ".py",
   "mimetype": "text/x-python",
   "name": "python",
   "nbconvert_exporter": "python",
   "pygments_lexer": "ipython3",
   "version": "3.6.4"
  }
 },
 "nbformat": 4,
 "nbformat_minor": 2
}
